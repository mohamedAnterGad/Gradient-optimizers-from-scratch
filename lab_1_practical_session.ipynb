{
 "cells": [
  {
   "cell_type": "markdown",
   "id": "ae37599e",
   "metadata": {},
   "source": [
    "### imports\n",
    "<b> this is bold </b> this is not"
   ]
  },
  {
   "cell_type": "code",
   "execution_count": 1,
   "id": "f2cabfd4",
   "metadata": {},
   "outputs": [],
   "source": [
    "import numpy as np\n",
    "import matplotlib.pyplot as plt\n",
    "%matplotlib inline\n",
    "from sklearn.metrics import r2_score"
   ]
  },
  {
   "cell_type": "markdown",
   "id": "8e3e2acc",
   "metadata": {},
   "source": [
    "### reading data "
   ]
  },
  {
   "cell_type": "code",
   "execution_count": 2,
   "id": "85e69233",
   "metadata": {},
   "outputs": [
    {
     "name": "stdout",
     "output_type": "stream",
     "text": [
      "shape:  (13, 2)\n",
      "[[2.9 4. ]\n",
      " [6.7 7.4]\n",
      " [4.9 5. ]\n",
      " [7.9 7.2]\n",
      " [9.8 7.9]]\n"
     ]
    }
   ],
   "source": [
    "data = np.genfromtxt('H:\\\\iti AI\\\\career\\\\15 numeric oprimization\\\\practical session\\\\RegData.csv'\n",
    "                  ,delimiter = ',', usecols = (0,1), skip_header = 0,dtype = 'float')\n",
    "\n",
    "print('shape: ',data.shape)\n",
    "print(np.around(data[:5],decimals = 2))\n",
    "\n",
    "x_points = data[:,0].reshape(13,1)\n",
    "y_points = data[:,1].reshape(13,1)"
   ]
  },
  {
   "cell_type": "markdown",
   "id": "c3191412",
   "metadata": {},
   "source": [
    "### plotting the data"
   ]
  },
  {
   "cell_type": "code",
   "execution_count": 3,
   "id": "98c08d5b",
   "metadata": {},
   "outputs": [
    {
     "name": "stdout",
     "output_type": "stream",
     "text": [
      "\n",
      ".............................plotting the data.......................\n"
     ]
    },
    {
     "data": {
      "image/png": "[encoded data removed]",
      "text/plain": [
       "<Figure size 432x288 with 1 Axes>"
      ]
     },
     "metadata": {
      "needs_background": "light"
     },
     "output_type": "display_data"
    }
   ],
   "source": [
    "_ = plt.plot(x_points, y_points,'ro',label ='data')\n",
    "_ = plt.legend()\n",
    "_ = plt.xlabel('x_points')\n",
    "_ = plt.ylabel('y_points')\n",
    "print('\\n.............................plotting the data.......................')"
   ]
  },
  {
   "cell_type": "markdown",
   "id": "89b4d91c",
   "metadata": {},
   "source": [
    "# Linear Regression full implementation (full batch gradient descent )"
   ]
  },
  {
   "cell_type": "code",
   "execution_count": 4,
   "id": "dd53d25b",
   "metadata": {},
   "outputs": [],
   "source": [
    "def batch_gradient(x_points,y_points,learning_rate = 0.01, theta0 =0, theta1 =0,iterations = 100):\n",
    "    m = len(x_points)\n",
    "    cost_function_list=[]\n",
    "    theta0_list = []\n",
    "    theta1_list = []\n",
    "    it = 0 #variable to compute the number of actual iterations before break\n",
    "    for i in range(iterations):\n",
    "\n",
    "        #.........................define y_prediction ,error vectors and ..........................\n",
    "        y_hat = theta1*x_points + theta0\n",
    "        error = y_hat - y_points\n",
    "\n",
    "        #.......................cost_function(loss)..............................\n",
    "        cost_function = (error.T.dot(error))/(2*m) # J(theta0,theta1)\n",
    "        \n",
    "        #.......................appending thetas and cost function..................\n",
    "        cost_function_list.append(cost_function[0,0])#cuz dot product returns an array if vector .Tdot vector\n",
    "        theta0_list.append(theta0)\n",
    "        theta1_list.append(theta1) #appending thetas before updating'em \n",
    "\n",
    "        #........................gradient ......................................\n",
    "        gradient_theta0 = sum(error*1)/m \n",
    "        #gradient_theta1 = sum(error*x_points)/m\n",
    "        gradient_theta1 = error.T.dot(x_points)/m #this returns an array 2d\n",
    "\n",
    "        #...........................update thetas................................\n",
    "        theta0 = theta0 - gradient_theta0[0]*learning_rate\n",
    "        theta1 = theta1 - gradient_theta1[0,0]*learning_rate\n",
    "        \n",
    "        #.........................early stop condition.........................\n",
    "        #u have 3 options 1.compare cost function(<0.001) or 2. compare thetas (norm of theta1 and theta2 vector) or/\n",
    "        #/ 3. if gradient is really close to zero break and stop(<0.1) big number cuz it will be multiplied by alpha\n",
    "        it+=1\n",
    "        if len(cost_function_list) > 1:\n",
    "            if abs(cost_function_list[-1] - cost_function_list[-2]) <0.0001:\n",
    "                break\n",
    "        \n",
    "\n",
    "    return y_hat, theta0_list , theta1_list , cost_function_list,it"
   ]
  },
  {
   "cell_type": "code",
   "execution_count": 5,
   "id": "e265e285",
   "metadata": {},
   "outputs": [
    {
     "name": "stdout",
     "output_type": "stream",
     "text": [
      "accuracy of the model is 0.7481460845657725\n"
     ]
    },
    {
     "data": {
      "image/png": "[encoded data removed]",
      "text/plain": [
       "<Figure size 432x288 with 1 Axes>"
      ]
     },
     "metadata": {
      "needs_background": "light"
     },
     "output_type": "display_data"
    },
    {
     "name": "stdout",
     "output_type": "stream",
     "text": [
      "real number of iterations before early stop is 16\n"
     ]
    },
    {
     "data": {
      "image/png": "[encoded data removed]",
      "text/plain": [
       "<Figure size 432x288 with 2 Axes>"
      ]
     },
     "metadata": {
      "needs_background": "light"
     },
     "output_type": "display_data"
    }
   ],
   "source": [
    "iterations = 100\n",
    "y_hat , theta0_list , theta1_list , cost_function_list,it = batch_gradient(x_points, y_points,iterations=iterations,learning_rate = 0.01)\n",
    "_ = plt.plot(x_points,y_points,'ro',label='real data')\n",
    "_ = plt.plot(x_points,y_hat,label='predicted model')\n",
    "_ = plt.legend()\n",
    "print(f'accuracy of the model is {r2_score(y_points,y_hat)}')\n",
    "plt.show()\n",
    "print(f'real number of iterations before early stop is {it}')\n",
    "\n",
    "cost_function_list[0:5]\n",
    "\n",
    "#.................................ploting the loss function with iterations..........................\n",
    "fig , axes = plt.subplots(1,2)\n",
    "#axes[0] = plt.plot(np.arange(0,100),cost_function_list)\n",
    "_ = plt.title('loss function with iterations')\n",
    "_ = plt.xlabel('iterations')\n",
    "_ = plt.ylabel('loss function')\n",
    "\n",
    "axes[0].plot(np.arange(0,it),cost_function_list)\n",
    "axes[0].set_title('loss function with iterations')\n",
    "axes[0].set(xlabel='iterations',ylabel = 'loss function')\n",
    "\n",
    "axes[1].set_title('loss function with theta1')\n",
    "axes[1].plot(theta1_list,cost_function_list)\n",
    "axes[1].set(xlabel='theta1',ylabel = 'loss function')\n",
    "\n",
    "plt.show()"
   ]
  }
 ],
 "metadata": {
  "kernelspec": {
   "display_name": "Python 3",
   "language": "python",
   "name": "python3"
  },
  "language_info": {
   "codemirror_mode": {
    "name": "ipython",
    "version": 3
   },
   "file_extension": ".py",
   "mimetype": "text/x-python",
   "name": "python",
   "nbconvert_exporter": "python",
   "pygments_lexer": "ipython3",
   "version": "3.8.8"
  }
 },
 "nbformat": 4,
 "nbformat_minor": 5
}
